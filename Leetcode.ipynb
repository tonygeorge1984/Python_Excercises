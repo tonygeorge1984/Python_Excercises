{
 "cells": [
  {
   "cell_type": "markdown",
   "metadata": {},
   "source": [
    "# Exercise - 1\n",
    "Given an array of integers nums and an integer target, return indices of the two numbers such that they add up to target.\n",
    "\n",
    "You may assume that each input would have exactly one solution, and you may not use the same element twice.\n",
    "\n",
    "You can return the answer in any order.\n",
    "\n",
    "Input: nums = [2,7,11,15], target = 9\n",
    "\n",
    "Output: [0,1]"
   ]
  },
  {
   "cell_type": "code",
   "execution_count": 3,
   "metadata": {},
   "outputs": [],
   "source": [
    "def Ex1solution(nums, target):\n",
    "        result = []\n",
    "        for i in range(0,len(nums)):\n",
    "            for k in range(i+1,len(nums)):\n",
    "                if nums[i] + nums[k] == target:\n",
    "                    result.append(i)\n",
    "                    result.append(k)\n",
    "                    break;\n",
    "        return result "
   ]
  },
  {
   "cell_type": "markdown",
   "metadata": {},
   "source": [
    "# Exercise - 2\n",
    "Given a string s, find the length of the longest substring without repeating characters.\n",
    "Input: s = \"abcabcbb\"\n",
    "Output: 3"
   ]
  },
  {
   "cell_type": "code",
   "execution_count": 9,
   "metadata": {},
   "outputs": [
    {
     "ename": "IndentationError",
     "evalue": "unexpected indent (<ipython-input-9-6fb9def517fc>, line 16)",
     "output_type": "error",
     "traceback": [
      "\u001b[0;36m  File \u001b[0;32m\"<ipython-input-9-6fb9def517fc>\"\u001b[0;36m, line \u001b[0;32m16\u001b[0m\n\u001b[0;31m    s_ = s[i]\u001b[0m\n\u001b[0m    ^\u001b[0m\n\u001b[0;31mIndentationError\u001b[0m\u001b[0;31m:\u001b[0m unexpected indent\n"
     ]
    }
   ],
   "source": [
    "def Ex2solutons(s):\n",
    "    final_count = 1\n",
    "    count = 0\n",
    "    s_ = \"\"\n",
    "    if len(s) == 0:\n",
    "        final_count = 0\n",
    "    else:\n",
    "        for i in range(0,len(s)):\n",
    "            s_ = s[i]\n",
    "            for k in range(i+1,len(s)):\n",
    "                 if k == i +1:\n",
    "                    count = 1\n",
    "            if s[k] in s_ or s[i] == s[k]:\n",
    "                if count > final_count:\n",
    "                    final_count = count\n",
    "                        s_ = s[i]\n",
    "                break\n",
    "            else:\n",
    "                count +=1\n",
    "                if count > final_count:\n",
    "                    final_count = count\n",
    "                    s_ = s_ + s[k]      \n",
    "    return final_count       \n",
    "          \n",
    "    "
   ]
  },
  {
   "cell_type": "code",
   "execution_count": null,
   "metadata": {},
   "outputs": [],
   "source": []
  }
 ],
 "metadata": {
  "kernelspec": {
   "display_name": "Python 3",
   "language": "python",
   "name": "python3"
  },
  "language_info": {
   "codemirror_mode": {
    "name": "ipython",
    "version": 3
   },
   "file_extension": ".py",
   "mimetype": "text/x-python",
   "name": "python",
   "nbconvert_exporter": "python",
   "pygments_lexer": "ipython3",
   "version": "3.7.6"
  }
 },
 "nbformat": 4,
 "nbformat_minor": 4
}
