{
 "cells": [
  {
   "cell_type": "markdown",
   "metadata": {},
   "source": [
    "# Sync up Fork with original repo"
   ]
  },
  {
   "cell_type": "markdown",
   "metadata": {},
   "source": [
    "git remote add upstream https://github.com/[Original Owner Username]/[Original Repository].git --> to set the remote upstream as the original repo.\n",
    "\n",
    "git remote -v --> To check the origin and upstream sources.\n",
    "\n",
    "git pull upstream main --> To sync up wit the original repo\n",
    "\n",
    "git checkout main \n",
    "\n",
    "git merge upstream/main --> To sync up the original, local and forked github repo.\n",
    "\n",
    "git push origin branch"
   ]
  },
  {
   "cell_type": "markdown",
   "metadata": {},
   "source": [
    "# Hard reset \n",
    "\n",
    "git checkout -f branch --> force branch change\n",
    "\n",
    "git reset --> hard origin/main"
   ]
  },
  {
   "cell_type": "code",
   "execution_count": null,
   "metadata": {},
   "outputs": [],
   "source": []
  }
 ],
 "metadata": {
  "kernelspec": {
   "display_name": "Python 3",
   "language": "python",
   "name": "python3"
  },
  "language_info": {
   "codemirror_mode": {
    "name": "ipython",
    "version": 3
   },
   "file_extension": ".py",
   "mimetype": "text/x-python",
   "name": "python",
   "nbconvert_exporter": "python",
   "pygments_lexer": "ipython3",
   "version": "3.7.6"
  }
 },
 "nbformat": 4,
 "nbformat_minor": 4
}
