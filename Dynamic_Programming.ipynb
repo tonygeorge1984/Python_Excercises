{
 "cells": [
  {
   "cell_type": "markdown",
   "metadata": {},
   "source": [
    "# Dynamic Programming"
   ]
  },
  {
   "cell_type": "markdown",
   "metadata": {},
   "source": [
    "### 1. Fibonacci Series"
   ]
  },
  {
   "cell_type": "code",
   "execution_count": 5,
   "metadata": {},
   "outputs": [
    {
     "name": "stdout",
     "output_type": "stream",
     "text": [
      "8\n"
     ]
    }
   ],
   "source": [
    "def calculateFibonacci(n):\n",
    "    if n<=2:\n",
    "        return 1\n",
    "    \n",
    "    return (calculateFibonacci(n-1) + calculateFibonacci(n-2))\n",
    "\n",
    "\n",
    "if __name__ == '__main__':\n",
    "    number = calcualteFibonacci(6)\n",
    "    print(number)"
   ]
  },
  {
   "cell_type": "markdown",
   "metadata": {},
   "source": [
    "### With Memoization"
   ]
  },
  {
   "cell_type": "code",
   "execution_count": 13,
   "metadata": {},
   "outputs": [
    {
     "name": "stdout",
     "output_type": "stream",
     "text": [
      "55\n"
     ]
    }
   ],
   "source": [
    "def calculateFibo(n):\n",
    "    memo = [-1 for x in range(n+1)]\n",
    "    return fiboRecursion(memo,n)\n",
    "\n",
    "def fiboRecursion(memo,n):\n",
    "    if n<=2:\n",
    "        memo[n] = 1\n",
    "        return memo[n]\n",
    "    \n",
    "    if memo[n] >=0:\n",
    "        return memo[n]\n",
    "    \n",
    "    memo[n] = fiboRecursion(memo,n-1) + fiboRecursion(memo,n-2)\n",
    "    \n",
    "    return memo[n]\n",
    "\n",
    "if __name__ == '__main__':\n",
    "    number = calculateFibo(10)\n",
    "    print(number)"
   ]
  },
  {
   "cell_type": "markdown",
   "metadata": {},
   "source": [
    "### 2. Given two integer arrays to represent weights and profits of ‘N’ items, we need to find a subset of these items which will give us maximum profit such that their cumulative weight is not more than a given number ‘C’. Write a function that returns the maximum profit. Each item can only be selected once, which means either we put an item in the knapsack or skip it.\n",
    "\n",
    "Items: { Apple, Orange, Banana, Melon }\n",
    "Weights: { 2, 3, 1, 4 }\n",
    "Profits: { 4, 5, 3, 7 }\n",
    "Knapsack capacity: 5"
   ]
  },
  {
   "cell_type": "code",
   "execution_count": 22,
   "metadata": {},
   "outputs": [
    {
     "name": "stdout",
     "output_type": "stream",
     "text": [
      "10\n",
      "22\n"
     ]
    }
   ],
   "source": [
    "def solve_knapsack(profits,weights,capacity):\n",
    "    return recur_knapsack(profits,weights,capacity,len(profits)-1)\n",
    "          \n",
    "def recur_knapsack(profits,weights,capacity,indx):    \n",
    "    if (indx < 0) or (capacity <= 0):\n",
    "        return 0\n",
    "    \n",
    "    profit1 = 0\n",
    "    if capacity - weights[indx] >= 0:\n",
    "        profit1 = profits[indx] + recur_knapsack(profits,weights,capacity-weights[indx],indx-1)\n",
    "    \n",
    "    profit2 = recur_knapsack(profits,weights,capacity,indx-1)\n",
    "    \n",
    "    return max(profit1,profit2)\n",
    "\n",
    "if __name__ == '__main__':\n",
    "    max_profit = solve_knapsack([4, 5, 3, 7 ],[2, 3, 1, 4],5)\n",
    "    print(max_profit)\n",
    "    max_profit = solve_knapsack([1, 6, 10, 16], [1, 2, 3, 5], 7)\n",
    "    print(max_profit)\n",
    "    "
   ]
  },
  {
   "cell_type": "markdown",
   "metadata": {},
   "source": [
    "### With Memoization"
   ]
  },
  {
   "cell_type": "code",
   "execution_count": 33,
   "metadata": {},
   "outputs": [
    {
     "name": "stdout",
     "output_type": "stream",
     "text": [
      "10\n",
      "22\n"
     ]
    }
   ],
   "source": [
    "def solve_knapsack(profits,weights,capacity):\n",
    "    dp = [[-1 for x in range(capacity+1)] for y in range(len(profits))]\n",
    "    return recur_knapsack(profits,weights,capacity,len(profits)-1,dp)\n",
    "\n",
    "def recur_knapsack(profits,weights,capacity,indx,dp):\n",
    "    if (capacity <= 0) or (indx <0):\n",
    "        return 0\n",
    "    \n",
    "    if dp[indx][capacity] > 0:\n",
    "        return dp[indx][capacity]\n",
    "    \n",
    "    profit1,profit2=0,0\n",
    "    \n",
    "    if capacity - weights[indx] >= 0:\n",
    "        profit1 = profits[indx] + recur_knapsack(profits,weights,capacity-weights[indx],indx-1,dp)\n",
    "    \n",
    "    profit2 = recur_knapsack(profits,weights,capacity,indx-1,dp)\n",
    "    \n",
    "    dp[indx][capacity] = max(profit1,profit2)\n",
    "    return dp[indx][capacity]\n",
    "\n",
    "if __name__ == '__main__':\n",
    "    max_profit = solve_knapsack([4, 5, 3, 7 ],[2, 3, 1, 4],5)\n",
    "    print(max_profit)\n",
    "    max_profit = solve_knapsack([1, 6, 10, 16], [1, 2, 3, 5], 7)\n",
    "    print(max_profit)\n"
   ]
  },
  {
   "cell_type": "markdown",
   "metadata": {},
   "source": [
    "### 3. Given a set of positive numbers, find if we can partition it into two subsets such that the sum of elements in both the subsets is equal."
   ]
  },
  {
   "cell_type": "markdown",
   "metadata": {},
   "source": [
    "Input: {1, 2, 3, 4}\n",
    "Output: True\n",
    "Explanation: The given set can be partitioned into two subsets with equal sum: {1, 4} & {2, 3}"
   ]
  },
  {
   "cell_type": "code",
   "execution_count": 34,
   "metadata": {},
   "outputs": [
    {
     "data": {
      "text/plain": [
       "[[False, False, False, False, False, False, False],\n",
       " [False, False, False, False, False, False, False],\n",
       " [False, False, False, False, False, False, False],\n",
       " [False, False, False, False, False, False, False],\n",
       " [False, False, False, False, False, False, False]]"
      ]
     },
     "execution_count": 34,
     "metadata": {},
     "output_type": "execute_result"
    }
   ],
   "source": [
    "dp = [[False for x in range(6+1)] for y in range(5)]\n",
    "dp"
   ]
  },
  {
   "cell_type": "code",
   "execution_count": null,
   "metadata": {},
   "outputs": [],
   "source": []
  }
 ],
 "metadata": {
  "kernelspec": {
   "display_name": "Python 3",
   "language": "python",
   "name": "python3"
  },
  "language_info": {
   "codemirror_mode": {
    "name": "ipython",
    "version": 3
   },
   "file_extension": ".py",
   "mimetype": "text/x-python",
   "name": "python",
   "nbconvert_exporter": "python",
   "pygments_lexer": "ipython3",
   "version": "3.7.6"
  }
 },
 "nbformat": 4,
 "nbformat_minor": 4
}
