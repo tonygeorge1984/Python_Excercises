{
 "cells": [
  {
   "cell_type": "markdown",
   "metadata": {},
   "source": [
    "# Python Counter Excecises"
   ]
  },
  {
   "cell_type": "markdown",
   "metadata": {},
   "source": [
    "In Python you have to do a lot of counting while dealing with text data to find out word frequencies and so on.\n",
    "The below pythonic way of counting is the most efficient way to do counting in Python. We will advance to the best practice"
   ]
  },
  {
   "cell_type": "markdown",
   "metadata": {},
   "source": [
    "### Using the dict.get() method"
   ]
  },
  {
   "cell_type": "markdown",
   "metadata": {},
   "source": [
    "The get() method will will create a new key for the dict if a key is not found and initializes with zero. So that at run time there is no keyerror"
   ]
  },
  {
   "cell_type": "code",
   "execution_count": 5,
   "metadata": {},
   "outputs": [
    {
     "data": {
      "text/plain": [
       "{'m': 1,\n",
       " 'i': 6,\n",
       " 's': 7,\n",
       " 'p': 2,\n",
       " ' ': 4,\n",
       " 'r': 1,\n",
       " 'u': 1,\n",
       " 'n': 3,\n",
       " 'g': 1,\n",
       " 'o': 1,\n",
       " 'f': 1,\n",
       " 'a': 1,\n",
       " 't': 1}"
      ]
     },
     "execution_count": 5,
     "metadata": {},
     "output_type": "execute_result"
    }
   ],
   "source": [
    "sentence = \"mississippi is running so fast\"\n",
    "counter = {}\n",
    "for letter in sentence:\n",
    "    counter[letter] = counter.get(letter,0) +1\n",
    "counter"
   ]
  },
  {
   "cell_type": "markdown",
   "metadata": {},
   "source": [
    "### Using defaultdict from colletions"
   ]
  },
  {
   "cell_type": "markdown",
   "metadata": {},
   "source": [
    "The defaultdict will do what get() method dis earlier, during assignment, we can tell defaultdict how the new key value has to be initialized. In this case we initialize it with the factory funtion  'int'"
   ]
  },
  {
   "cell_type": "code",
   "execution_count": 6,
   "metadata": {},
   "outputs": [
    {
     "data": {
      "text/plain": [
       "defaultdict(int,\n",
       "            {'m': 1,\n",
       "             'i': 6,\n",
       "             's': 7,\n",
       "             'p': 2,\n",
       "             ' ': 4,\n",
       "             'r': 1,\n",
       "             'u': 1,\n",
       "             'n': 3,\n",
       "             'g': 1,\n",
       "             'o': 1,\n",
       "             'f': 1,\n",
       "             'a': 1,\n",
       "             't': 1})"
      ]
     },
     "execution_count": 6,
     "metadata": {},
     "output_type": "execute_result"
    }
   ],
   "source": [
    "from collections import defaultdict\n",
    "\n",
    "counter = defaultdict(int)\n",
    "for letter in sentence:\n",
    "    counter[letter] +=1 \n",
    "counter"
   ]
  },
  {
   "cell_type": "markdown",
   "metadata": {},
   "source": [
    "## Using Pythons Counter "
   ]
  },
  {
   "cell_type": "code",
   "execution_count": 7,
   "metadata": {},
   "outputs": [
    {
     "data": {
      "text/plain": [
       "Counter({'m': 1,\n",
       "         'i': 6,\n",
       "         's': 7,\n",
       "         'p': 2,\n",
       "         ' ': 4,\n",
       "         'r': 1,\n",
       "         'u': 1,\n",
       "         'n': 3,\n",
       "         'g': 1,\n",
       "         'o': 1,\n",
       "         'f': 1,\n",
       "         'a': 1,\n",
       "         't': 1})"
      ]
     },
     "execution_count": 7,
     "metadata": {},
     "output_type": "execute_result"
    }
   ],
   "source": [
    "from collections import Counter\n",
    "Counter(sentence)"
   ]
  },
  {
   "cell_type": "markdown",
   "metadata": {},
   "source": [
    "#### Constructing Counter\n",
    "1. Use a string as an argument\n",
    "2. Use a list as an argument\n",
    "3. Provide a dict or key/value pair\n",
    "4. Provide the key and value as arguments\n",
    "5. Call set() which initializes all of the Unique keys to 1"
   ]
  },
  {
   "cell_type": "code",
   "execution_count": 16,
   "metadata": {},
   "outputs": [
    {
     "name": "stdout",
     "output_type": "stream",
     "text": [
      "1 ---> Counter({'o': 3, 'l': 2, 'h': 1, 'y': 1, 'w': 1, 'd': 1})\n",
      "2 ---> Counter({'o': 3, 'l': 2, 'h': 1, 'y': 1, 'w': 1, 'd': 1})\n",
      "3 ---> Counter({'orage': 5, 'apple': 2, 'papaya': 1})\n",
      "4 ---> Counter({'orange': 5, 'apple': 2, 'papaya': 1})\n",
      "5 ---> Counter({'d': 1, 'h': 1, 'o': 1, 'l': 1, 'w': 1, 'y': 1})\n"
     ]
    }
   ],
   "source": [
    "from collections import Counter\n",
    "# Use a string as an argument\n",
    "cnt1 = Counter('hollywood')\n",
    "print('1 --->',cnt1)\n",
    "\n",
    "# Use a list as argument\n",
    "cnt2 = Counter(list('hollywood'))\n",
    "print('2 --->',cnt2)\n",
    "\n",
    "# Provide a dict or key/value pair\n",
    "cnt3 = Counter({'apple':2,\"orage\":5,\"papaya\":1})\n",
    "print('3 --->',cnt3)\n",
    "\n",
    "# Provide a key and value \n",
    "cnt4 = Counter(apple=2,orange=5,papaya=1)\n",
    "print('4 --->',cnt4)\n",
    "\n",
    "# Call set() which initializes all of the unique keys\n",
    "cnt5 = Counter(set('hollywood'))\n",
    "print('5 --->',cnt5)"
   ]
  },
  {
   "cell_type": "markdown",
   "metadata": {},
   "source": [
    "#### Updaing the Object Counts\n",
    "1. Providing iterables to the update function.\n",
    "2. Providing another Counter/dict instance to the update function"
   ]
  },
  {
   "cell_type": "code",
   "execution_count": 40,
   "metadata": {},
   "outputs": [
    {
     "name": "stdout",
     "output_type": "stream",
     "text": [
      "Iterables to update: Counter({'o': 9, 'l': 6, 'y': 3, 'w': 3, 'd': 3, 'h': 1, 'm': 1, 'b': 1})\n",
      "counter update Counter({'orange': 45, 'apple': 15, 'papaya': 7})\n",
      "dict update Counter({'orange': 49, 'apple': 20, 'papaya': 9})\n"
     ]
    }
   ],
   "source": [
    "# Iterables to the update function\n",
    "count_of_items = Counter('hollywood')\n",
    "count_of_items.update('mollywood')\n",
    "count_of_items.update('bollywood')\n",
    "print('Iterables to update:', count_of_items)\n",
    "\n",
    "# Counter to the update function\n",
    "\n",
    "fruit_count_today = Counter({'apple':10,'orange':25,'papaya':3})\n",
    "fruit_count_yesterday =Counter({'apple':5,'orange':20,'papaya':4}) \n",
    "fruit_count_today.update(fruit_count_yesterday)\n",
    "print('counter update',fruit_count_today)\n",
    "\n",
    "# Dict to update function\n",
    "fruit_count_added_today = {'apple':5,'orange':4,'papaya':2}\n",
    "fruit_count_today.update(fruit_count_added_today)\n",
    "print('dict update',fruit_count_today)"
   ]
  },
  {
   "cell_type": "markdown",
   "metadata": {},
   "source": [
    "#### Access the Counter"
   ]
  },
  {
   "cell_type": "code",
   "execution_count": 13,
   "metadata": {},
   "outputs": [
    {
     "name": "stdout",
     "output_type": "stream",
     "text": [
      "keys------------------------\n",
      "apple\n",
      "orange\n",
      "papaya\n",
      "values---------------------\n",
      "20\n",
      "49\n",
      "9\n",
      "key and value--------------\n",
      "apple --> 20\n",
      "orange --> 49\n",
      "papaya --> 9\n"
     ]
    }
   ],
   "source": [
    "fruit_count_today['apple']\n",
    "# to access the keys\n",
    "print('keys------------------------')\n",
    "for key in fruit_count_today.keys():\n",
    "    print(key)\n",
    "    \n",
    "# to access the values\n",
    "print('values---------------------')\n",
    "for val in fruit_count_today.values():\n",
    "    print(val)\n",
    "    \n",
    "# to access key and values\n",
    "print('key and value--------------')\n",
    "for key,val in fruit_count_today.items():\n",
    "    print(key,'-->',val)"
   ]
  },
  {
   "cell_type": "markdown",
   "metadata": {},
   "source": [
    "#### Finding the most common\n",
    "The function most_common(x) on the counter will retun a list of 'x' most common items. If provide 'None' will return a sorted list of values."
   ]
  },
  {
   "cell_type": "code",
   "execution_count": 14,
   "metadata": {},
   "outputs": [
    {
     "data": {
      "text/plain": [
       "[('orange', 49)]"
      ]
     },
     "execution_count": 14,
     "metadata": {},
     "output_type": "execute_result"
    }
   ],
   "source": [
    "fruit_count_today.most_common(1)"
   ]
  },
  {
   "cell_type": "code",
   "execution_count": 15,
   "metadata": {},
   "outputs": [
    {
     "data": {
      "text/plain": [
       "[('orange', 49), ('apple', 20)]"
      ]
     },
     "execution_count": 15,
     "metadata": {},
     "output_type": "execute_result"
    }
   ],
   "source": [
    "fruit_count_today.most_common(2)"
   ]
  },
  {
   "cell_type": "code",
   "execution_count": 16,
   "metadata": {},
   "outputs": [
    {
     "data": {
      "text/plain": [
       "[('orange', 49), ('apple', 20), ('papaya', 9)]"
      ]
     },
     "execution_count": 16,
     "metadata": {},
     "output_type": "execute_result"
    }
   ],
   "source": [
    "fruit_count_today.most_common(None)"
   ]
  },
  {
   "cell_type": "code",
   "execution_count": 17,
   "metadata": {},
   "outputs": [
    {
     "data": {
      "text/plain": [
       "[('papaya', 9), ('apple', 20), ('orange', 49)]"
      ]
     },
     "execution_count": 17,
     "metadata": {},
     "output_type": "execute_result"
    }
   ],
   "source": [
    "# to get the list in the reverse order\n",
    "fruit_count_today.most_common()[::-1]"
   ]
  },
  {
   "cell_type": "code",
   "execution_count": 18,
   "metadata": {},
   "outputs": [
    {
     "data": {
      "text/plain": [
       "[('papaya', 9), ('apple', 20)]"
      ]
     },
     "execution_count": 18,
     "metadata": {},
     "output_type": "execute_result"
    }
   ],
   "source": [
    "fruit_count_today.most_common()[:-3:-1]"
   ]
  },
  {
   "cell_type": "markdown",
   "metadata": {},
   "source": [
    "## Working with Counter\n",
    "1. Find the most common words in the text\n",
    "2. Find the mode of a sample\n",
    "3. Using arithmatic operations using counter like subtract, addition, multiplication, division.\n",
    "4. Using multiset features.\n"
   ]
  },
  {
   "cell_type": "markdown",
   "metadata": {},
   "source": [
    "Find the most common words in the text"
   ]
  },
  {
   "cell_type": "code",
   "execution_count": 30,
   "metadata": {},
   "outputs": [
    {
     "data": {
      "text/plain": [
       "[('ut', 3), ('in', 3)]"
      ]
     },
     "execution_count": 30,
     "metadata": {},
     "output_type": "execute_result"
    }
   ],
   "source": [
    "import string \n",
    "from collections import Counter\n",
    "\n",
    "text = \"Lorem ipsum dolor sit amet, consectetur adipiscing elit, sed do eiusmod tempor incididunt ut labore et dolore magna aliqua. Ut enim ad minim veniam, quis nostrud exercitation ullamco laboris nisi ut aliquip ex ea commodo consequat. Duis aute irure dolor in reprehenderit in voluptate velit esse cillum dolore eu fugiat nulla pariatur. Excepteur sint occaecat cupidatat non proident, sunt in culpa qui officia deserunt mollit anim id est laborum.\"\n",
    "\n",
    "#get the clean words without puncutation\n",
    "trans_table = str.maketrans('','',string.punctuation) \n",
    "word_list = text.lower().split() \n",
    "clean_word_list = [word.translate(trans_table) for word in word_list]\n",
    "\n",
    "#apply counter to the clean word list\n",
    "word_counter = Counter(clean_word_list)\n",
    "\n",
    "#Find the 2 most common words in the text\n",
    "word_counter.most_common(2)"
   ]
  },
  {
   "cell_type": "markdown",
   "metadata": {},
   "source": [
    "Find the mode of a sample"
   ]
  },
  {
   "cell_type": "code",
   "execution_count": 31,
   "metadata": {},
   "outputs": [
    {
     "data": {
      "text/plain": [
       "'orange'"
      ]
     },
     "execution_count": 31,
     "metadata": {},
     "output_type": "execute_result"
    }
   ],
   "source": [
    "# Find the mode of a sample\n",
    "\n",
    "fruit_count_today.most_common(1)[0][0]"
   ]
  },
  {
   "cell_type": "markdown",
   "metadata": {},
   "source": [
    "Using arithmatic operations with counter like subtract, addition, min and max."
   ]
  },
  {
   "cell_type": "code",
   "execution_count": 41,
   "metadata": {},
   "outputs": [
    {
     "name": "stdout",
     "output_type": "stream",
     "text": [
      "None Counter({'orange': 49, 'apple': 20, 'papaya': 9}) Counter({'orange': 20, 'apple': 5, 'papaya': 4}) Counter({'orange': 29, 'apple': 15, 'papaya': 5})\n"
     ]
    }
   ],
   "source": [
    "subt = fruit_count_today.subtract(fruit_count_yesterday)\n",
    "add = fruit_count_today + fruit_count_yesterday\n",
    "minc = fruit_count_today & fruit_count_yesterday\n",
    "maxc = fruit_count_today | fruit_count_yesterday\n",
    "print(subt,add,minc,maxc)\n"
   ]
  },
  {
   "cell_type": "markdown",
   "metadata": {},
   "source": [
    "Counter Multiset feature 'elements'"
   ]
  },
  {
   "cell_type": "code",
   "execution_count": 42,
   "metadata": {},
   "outputs": [
    {
     "name": "stdout",
     "output_type": "stream",
     "text": [
      "1\n",
      "1\n",
      "1\n",
      "1\n",
      "2\n",
      "2\n",
      "2\n",
      "3\n",
      "3\n",
      "3\n",
      "3\n",
      "3\n",
      "5\n"
     ]
    }
   ],
   "source": [
    "lst = [1,2,3,2,2,3,3,1,1,1,3,5,3]\n",
    "list_count = Counter(lst)\n",
    "\n",
    "for ele in list_count.elements():\n",
    "    print(ele)\n"
   ]
  },
  {
   "cell_type": "code",
   "execution_count": null,
   "metadata": {},
   "outputs": [],
   "source": []
  }
 ],
 "metadata": {
  "kernelspec": {
   "display_name": "Python 3",
   "language": "python",
   "name": "python3"
  },
  "language_info": {
   "codemirror_mode": {
    "name": "ipython",
    "version": 3
   },
   "file_extension": ".py",
   "mimetype": "text/x-python",
   "name": "python",
   "nbconvert_exporter": "python",
   "pygments_lexer": "ipython3",
   "version": "3.7.6"
  }
 },
 "nbformat": 4,
 "nbformat_minor": 4
}
