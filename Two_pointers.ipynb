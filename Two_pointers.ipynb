{
 "cells": [
  {
   "cell_type": "markdown",
   "metadata": {},
   "source": [
    "# Two Pointers"
   ]
  },
  {
   "cell_type": "markdown",
   "metadata": {},
   "source": [
    "### 1. Given an array of sorted numbers and a target sum, find a pair in the array whose sum is equal to the given target. Write a function to return the indices of the two numbers (i.e. the pair) such that they add up to the given target."
   ]
  },
  {
   "cell_type": "markdown",
   "metadata": {},
   "source": [
    "Input: [1, 2, 3, 4, 6], target=6\n",
    "Output: [1, 3]\n",
    "Explanation: The numbers at index 1 and 3 add up to 6: 2+4=6\n",
    "\n",
    "Input: [2, 5, 9, 11], target=11\n",
    "Output: [0, 2]\n",
    "Explanation: The numbers at index 0 and 2 add up to 11: 2+9=11"
   ]
  },
  {
   "cell_type": "code",
   "execution_count": 5,
   "metadata": {},
   "outputs": [
    {
     "name": "stdout",
     "output_type": "stream",
     "text": [
      "[1, 3]\n",
      "[0, 2]\n"
     ]
    }
   ],
   "source": [
    "def solve_pairsum(arr,target):\n",
    "    start_point = 0\n",
    "    end_point = len(arr) - 1\n",
    "    res= []\n",
    "    \n",
    "    for i in range(len(arr)):\n",
    "        if target > (arr[start_point] + arr[end_point]):\n",
    "            start_point += 1\n",
    "        elif target < (arr[start_point] + arr[end_point]):\n",
    "            end_point -= 1\n",
    "        elif target == (arr[start_point] + arr[end_point]):\n",
    "            return [start_point,end_point]\n",
    "    return res\n",
    "\n",
    "if __name__ == '__main__':\n",
    "    pairsum = solve_pairsum([1, 2, 3, 4, 6],6)\n",
    "    print(pairsum)\n",
    "    pairsum = solve_pairsum([2, 5, 9, 11],11)\n",
    "    print(pairsum)\n",
    "            "
   ]
  },
  {
   "cell_type": "code",
   "execution_count": null,
   "metadata": {},
   "outputs": [],
   "source": []
  }
 ],
 "metadata": {
  "kernelspec": {
   "display_name": "Python 3",
   "language": "python",
   "name": "python3"
  },
  "language_info": {
   "codemirror_mode": {
    "name": "ipython",
    "version": 3
   },
   "file_extension": ".py",
   "mimetype": "text/x-python",
   "name": "python",
   "nbconvert_exporter": "python",
   "pygments_lexer": "ipython3",
   "version": "3.7.6"
  }
 },
 "nbformat": 4,
 "nbformat_minor": 4
}
