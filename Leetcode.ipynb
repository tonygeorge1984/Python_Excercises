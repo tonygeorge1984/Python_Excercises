{
 "cells": [
  {
   "cell_type": "markdown",
   "metadata": {},
   "source": [
    "# Exercise - 1\n",
    "Given an array of integers nums and an integer target, return indices of the two numbers such that they add up to target.\n",
    "\n",
    "You may assume that each input would have exactly one solution, and you may not use the same element twice.\n",
    "\n",
    "You can return the answer in any order.\n",
    "\n",
    "Input: nums = [2,7,11,15], target = 9\n",
    "\n",
    "Output: [0,1]\n",
    "\n",
    "Time Complexity O(N* "
   ]
  },
  {
   "cell_type": "code",
   "execution_count": 3,
   "metadata": {},
   "outputs": [],
   "source": [
    "def Ex1solution(nums, target):\n",
    "        result = []\n",
    "        for i in range(0,len(nums)):\n",
    "            for k in range(i+1,len(nums)):\n",
    "                if nums[i] + nums[k] == target:\n",
    "                    result.append(i)\n",
    "                    result.append(k)\n",
    "                    break;\n",
    "        return result "
   ]
  },
  {
   "cell_type": "markdown",
   "metadata": {},
   "source": [
    "# Exercise - 2\n",
    "Given a string s, find the length of the longest substring without repeating characters.\n",
    "Input: s = \"abcabcbb\"\n",
    "Output: 3"
   ]
  },
  {
   "cell_type": "code",
   "execution_count": 10,
   "metadata": {},
   "outputs": [],
   "source": [
    "def Ex2solutons(s):\n",
    "    final_count = 1\n",
    "    count = 0\n",
    "    s_ = \"\"\n",
    "    if len(s) == 0:\n",
    "        final_count = 0\n",
    "    else:\n",
    "        for i in range(0,len(s)):\n",
    "            s_ = s[i]\n",
    "            for k in range(i+1,len(s)):\n",
    "                 if k == i +1:\n",
    "                    count = 1\n",
    "            if s[k] in s_ or s[i] == s[k]:\n",
    "                if count > final_count:\n",
    "                    final_count = count\n",
    "                    s_ = s[i]\n",
    "                break\n",
    "            else:\n",
    "                count +=1\n",
    "                if count > final_count:\n",
    "                    final_count = count\n",
    "                    s_ = s_ + s[k]      \n",
    "    return final_count       \n",
    "          \n",
    "    "
   ]
  },
  {
   "cell_type": "markdown",
   "metadata": {},
   "source": [
    "# Exercise - 3\n",
    "Implement the myAtoi(string s) function, which converts a string to a 32-bit signed integer (similar to C/C++'s atoi function).\n",
    "\n",
    "The algorithm for myAtoi(string s) is as follows:\n",
    "\n",
    "Read in and ignore any leading whitespace.\n",
    "Check if the next character (if not already at the end of the string) is '-' or '+'. Read this character in if it is either. This determines if the final result is negative or positive respectively. Assume the result is positive if neither is present.\n",
    "Read in next the characters until the next non-digit charcter or the end of the input is reached. The rest of the string is ignored.\n",
    "Convert these digits into an integer (i.e. \"123\" -> 123, \"0032\" -> 32). If no digits were read, then the integer is 0. Change the sign as necessary (from step 2).\n",
    "If the integer is out of the 32-bit signed integer range [-231, 231 - 1], then clamp the integer so that it remains in the range. Specifically, integers less than -231 should be clamped to -231, and integers greater than 231 - 1 should be clamped to 231 - 1.\n",
    "Return the integer as the final result.\n",
    "                                                                                             \n",
    "Input: s = \"   -42\"\n",
    "Output: -42                                                                                            "
   ]
  },
  {
   "cell_type": "code",
   "execution_count": 63,
   "metadata": {},
   "outputs": [],
   "source": [
    "def Ex3solution(s):\n",
    "        s = s.lstrip()\n",
    "        start = 0\n",
    "        result = \"0\"\n",
    "        sign=None\n",
    "        if s == '' or s =='+' or s=='-':\n",
    "            return 0\n",
    "        if s[0] == '-' or s[0] == '+':\n",
    "            sign = s[0]\n",
    "            start = 1\n",
    "        \n",
    "        for i in range(start,len(s)):\n",
    "            if s[i] not in ['1','2','3','4','5','6','7','8','9','0']:\n",
    "                break\n",
    "            else:\n",
    "                result = result + s[i]\n",
    "        \n",
    "        if s[start] not in ['1','2','3','4','5','6','7','8','9','0']:\n",
    "            result = \"0\"\n",
    "                \n",
    "        result = int(result)\n",
    "        if sign =='-':\n",
    "            result = result * -1\n",
    "            if result < -2 ** 31 :\n",
    "                result = -2 ** 31\n",
    "        else:\n",
    "            if result > 2 ** 31 -1:\n",
    "                result = 2 ** 31 -1\n",
    "            \n",
    "        \n",
    "        return result\n"
   ]
  },
  {
   "cell_type": "markdown",
   "metadata": {},
   "source": [
    "# Exercise 4\n",
    "\n",
    "Given n non-negative integers a1, a2, ..., an , where each represents a point at coordinate (i, ai). \n",
    "n vertical lines are drawn such that the two endpoints of the line i is at (i, ai) and (i, 0). \n",
    "Find two lines, which, together with the x-axis forms a container, such that the container contains the most water.\n",
    "\n"
   ]
  },
  {
   "cell_type": "code",
   "execution_count": 106,
   "metadata": {},
   "outputs": [],
   "source": [
    "def Ex4solution(height):\n",
    "    res = max([max([(posx * htp) if htp < htx else (posx * htx) for posx,htx in \n",
    "                    enumerate(height[posp:])]) for posp,htp in enumerate(height)])\n",
    "    return res"
   ]
  },
  {
   "cell_type": "markdown",
   "metadata": {},
   "source": [
    "### Alternative Solution to be above problem with time complexity O(N)"
   ]
  },
  {
   "cell_type": "code",
   "execution_count": null,
   "metadata": {},
   "outputs": [],
   "source": [
    "def Ex4solution(height):\n",
    "    start = 0\n",
    "    end = len(height) -1\n",
    "    area = 0\n",
    "    new_area = 0        \n",
    "    while end > start:\n",
    "        ht = min(height[start],height[end])\n",
    "        area = ht * (end-start)\n",
    "        print(ht,end-start)\n",
    "        new_area = max(area,new_area)\n",
    "        if height[start] > height[end]:\n",
    "            end -= 1\n",
    "        elif height[start] < height[end]:\n",
    "            start += 1\n",
    "        elif height[start] == height[end]:\n",
    "            start +=1\n",
    "            end -= 1\n",
    "        \n",
    "        return new_area\n",
    "    \n",
    "        "
   ]
  }
 ],
 "metadata": {
  "kernelspec": {
   "display_name": "Python 3",
   "language": "python",
   "name": "python3"
  },
  "language_info": {
   "codemirror_mode": {
    "name": "ipython",
    "version": 3
   },
   "file_extension": ".py",
   "mimetype": "text/x-python",
   "name": "python",
   "nbconvert_exporter": "python",
   "pygments_lexer": "ipython3",
   "version": "3.7.6"
  }
 },
 "nbformat": 4,
 "nbformat_minor": 4
}
