{
 "cells": [
  {
   "cell_type": "markdown",
   "metadata": {},
   "source": [
    "# Exercise - 1\n",
    "Given an array of integers nums and an integer target, return indices of the two numbers such that they add up to target.\n",
    "\n",
    "You may assume that each input would have exactly one solution, and you may not use the same element twice.\n",
    "\n",
    "You can return the answer in any order.\n",
    "\n",
    "Input: nums = [2,7,11,15], target = 9\n",
    "\n",
    "Output: [0,1]\n",
    "\n",
    "#### Time Complexity O(N*2) "
   ]
  },
  {
   "cell_type": "code",
   "execution_count": 3,
   "metadata": {},
   "outputs": [],
   "source": [
    "def Ex1solution(nums, target):\n",
    "        result = []\n",
    "        for i in range(0,len(nums)):\n",
    "            for k in range(i+1,len(nums)):\n",
    "                if nums[i] + nums[k] == target:\n",
    "                    result.append(i)\n",
    "                    result.append(k)\n",
    "                    break;\n",
    "        return result "
   ]
  },
  {
   "cell_type": "markdown",
   "metadata": {},
   "source": [
    "# Exercise - 2\n",
    "Given a string s, find the length of the longest substring without repeating characters.\n",
    "\n",
    "Input: s = \"abcabcbb\"\n",
    "\n",
    "Output: 3\n",
    "\n",
    "#### Time Complexity O(N*2) "
   ]
  },
  {
   "cell_type": "code",
   "execution_count": 10,
   "metadata": {},
   "outputs": [],
   "source": [
    "def Ex2solutons(s):\n",
    "    final_count = 1\n",
    "    count = 0\n",
    "    s_ = \"\"\n",
    "    if len(s) == 0:\n",
    "        final_count = 0\n",
    "    else:\n",
    "        for i in range(0,len(s)):\n",
    "            s_ = s[i]\n",
    "            for k in range(i+1,len(s)):\n",
    "                 if k == i +1:\n",
    "                    count = 1\n",
    "            if s[k] in s_ or s[i] == s[k]:\n",
    "                if count > final_count:\n",
    "                    final_count = count\n",
    "                    s_ = s[i]\n",
    "                break\n",
    "            else:\n",
    "                count +=1\n",
    "                if count > final_count:\n",
    "                    final_count = count\n",
    "                    s_ = s_ + s[k]      \n",
    "    return final_count       \n",
    "          \n",
    "    "
   ]
  },
  {
   "cell_type": "markdown",
   "metadata": {},
   "source": [
    "# Exercise - 3\n",
    "Implement the myAtoi(string s) function, which converts a string to a 32-bit signed integer (similar to C/C++'s atoi function).\n",
    "\n",
    "The algorithm for myAtoi(string s) is as follows:\n",
    "\n",
    "Read in and ignore any leading whitespace.\n",
    "Check if the next character (if not already at the end of the string) is '-' or '+'. Read this character in if it is either. This determines if the final result is negative or positive respectively. Assume the result is positive if neither is present.\n",
    "Read in next the characters until the next non-digit charcter or the end of the input is reached. The rest of the string is ignored.\n",
    "Convert these digits into an integer (i.e. \"123\" -> 123, \"0032\" -> 32). If no digits were read, then the integer is 0. Change the sign as necessary (from step 2).\n",
    "If the integer is out of the 32-bit signed integer range [-231, 231 - 1], then clamp the integer so that it remains in the range. Specifically, integers less than -231 should be clamped to -231, and integers greater than 231 - 1 should be clamped to 231 - 1.\n",
    "Return the integer as the final result.\n",
    "                                                                                             \n",
    "Input: s = \"   -42\"\n",
    "\n",
    "Output: -42\n",
    "\n",
    "#### Time Complexity O(N) "
   ]
  },
  {
   "cell_type": "code",
   "execution_count": 63,
   "metadata": {},
   "outputs": [],
   "source": [
    "def Ex3solution(s):\n",
    "        s = s.lstrip()\n",
    "        start = 0\n",
    "        result = \"0\"\n",
    "        sign=None\n",
    "        if s == '' or s =='+' or s=='-':\n",
    "            return 0\n",
    "        if s[0] == '-' or s[0] == '+':\n",
    "            sign = s[0]\n",
    "            start = 1\n",
    "        \n",
    "        for i in range(start,len(s)):\n",
    "            if s[i] not in ['1','2','3','4','5','6','7','8','9','0']:\n",
    "                break\n",
    "            else:\n",
    "                result = result + s[i]\n",
    "        \n",
    "        if s[start] not in ['1','2','3','4','5','6','7','8','9','0']:\n",
    "            result = \"0\"\n",
    "                \n",
    "        result = int(result)\n",
    "        if sign =='-':\n",
    "            result = result * -1\n",
    "            if result < -2 ** 31 :\n",
    "                result = -2 ** 31\n",
    "        else:\n",
    "            if result > 2 ** 31 -1:\n",
    "                result = 2 ** 31 -1\n",
    "            \n",
    "        \n",
    "        return result\n"
   ]
  },
  {
   "cell_type": "markdown",
   "metadata": {},
   "source": [
    "# Exercise 4\n",
    "\n",
    "Given n non-negative integers a1, a2, ..., an , where each represents a point at coordinate (i, ai). \n",
    "n vertical lines are drawn such that the two endpoints of the line i is at (i, ai) and (i, 0). \n",
    "Find two lines, which, together with the x-axis forms a container, such that the container contains the most water.\n",
    "\n"
   ]
  },
  {
   "cell_type": "code",
   "execution_count": 106,
   "metadata": {},
   "outputs": [],
   "source": [
    "def Ex4solution(height):\n",
    "    res = max([max([(posx * htp) if htp < htx else (posx * htx) for posx,htx in \n",
    "                    enumerate(height[posp:])]) for posp,htp in enumerate(height)])\n",
    "    return res"
   ]
  },
  {
   "cell_type": "markdown",
   "metadata": {},
   "source": [
    "### Alternative Solution to be above problem with time complexity O(N)"
   ]
  },
  {
   "cell_type": "code",
   "execution_count": 110,
   "metadata": {},
   "outputs": [],
   "source": [
    "def Ex4solution(height):\n",
    "    start = 0\n",
    "    end = len(height) -1\n",
    "    area = 0\n",
    "    new_area = 0        \n",
    "    while end > start:\n",
    "        ht = min(height[start],height[end])\n",
    "        area = ht * (end-start)\n",
    "        print(ht,end-start)\n",
    "        new_area = max(area,new_area)\n",
    "        if height[start] > height[end]:\n",
    "            end -= 1\n",
    "        elif height[start] < height[end]:\n",
    "            start += 1\n",
    "        elif height[start] == height[end]:\n",
    "            start +=1\n",
    "            end -= 1\n",
    "        \n",
    "        return new_area\n",
    "    \n",
    "        "
   ]
  },
  {
   "cell_type": "markdown",
   "metadata": {},
   "source": [
    "# Exercise 5\n",
    "Roman numerals are represented by seven different symbols: I, V, X, L, C, D and M.\n",
    "\n",
    "Symbol       Value\n",
    "I             1\n",
    "V             5\n",
    "X             10\n",
    "L             50\n",
    "C             100\n",
    "D             500\n",
    "M             1000\n",
    "For example, 2 is written as II in Roman numeral, just two one's added together. 12 is written as XII, which is simply X + II. The number 27 is written as XXVII, which is XX + V + II.\n",
    "\n",
    "Roman numerals are usually written largest to smallest from left to right. However, the numeral for four is not IIII. Instead, the number four is written as IV. Because the one is before the five we subtract it making four. The same principle applies to the number nine, which is written as IX. There are six instances where subtraction is used:\n",
    "\n",
    "I can be placed before V (5) and X (10) to make 4 and 9. \n",
    "X can be placed before L (50) and C (100) to make 40 and 90. \n",
    "C can be placed before D (500) and M (1000) to make 400 and 900.\n",
    "Given an integer, convert it to a roman numeral."
   ]
  },
  {
   "cell_type": "code",
   "execution_count": 114,
   "metadata": {},
   "outputs": [],
   "source": [
    "def Ex5solution(num):\n",
    "    \n",
    "    unit_dict = {\n",
    "                      0:'',\n",
    "                      1:'I',\n",
    "                      2:'II',\n",
    "                      3:'III',\n",
    "                      4:'IV',\n",
    "                      5:'V',\n",
    "                      6:'VI',\n",
    "                      7:'VII',\n",
    "                      8:'VIII',\n",
    "                      9:'IX'      \n",
    "        }\n",
    "        \n",
    "    tens_dict = {\n",
    "                    1:'X',\n",
    "                    2:'XX',\n",
    "                    3:'XXX',\n",
    "                    4:'XL',\n",
    "                    5:'L',\n",
    "                    6:'LX',\n",
    "                    7:'LXX',\n",
    "                    8:'LXXX',\n",
    "                    9:'XC',    \n",
    "        }\n",
    "        \n",
    "    hund_dict = {\n",
    "                    1:'C',\n",
    "                    2:'CC',\n",
    "                    3:'CCC',\n",
    "                    4:'CD',\n",
    "                    5:'D',\n",
    "                    6:'DC',\n",
    "                    7:'DCC',\n",
    "                    8:'DCCC',\n",
    "                    9:'CM',\n",
    "            \n",
    "        }\n",
    "        \n",
    "    thou_dict = {\n",
    "                    1:'M',\n",
    "                    2:'MM',\n",
    "                    3:'MMM'\n",
    "        }\n",
    "    roman=\"\"\n",
    "        \n",
    "    num_pos = []\n",
    "    while num != 0:\n",
    "        num_pos.append(num%10)\n",
    "        num = num // 10\n",
    "            \n",
    "       \n",
    "    for i,val in enumerate(num_pos):\n",
    "        if i == 0:\n",
    "            roman = unit_dict[val]\n",
    "        if i == 1:\n",
    "            if val != 0:\n",
    "                roman = tens_dict[val]  + roman\n",
    "        if i == 2:\n",
    "            if val != 0:\n",
    "                roman = hund_dict[val]  + roman\n",
    "        if i == 3:\n",
    "            if val != 0:\n",
    "                roman = thou_dict[val]  + roman\n",
    "            \n",
    "    return roman\n",
    "            "
   ]
  },
  {
   "cell_type": "markdown",
   "metadata": {},
   "source": [
    "# Exercise 6\n",
    "\n",
    "Given an array of positive numbers and a positive number ‘k,’ find the maximum sum of any contiguous subarray of size ‘k’.\n"
   ]
  },
  {
   "cell_type": "code",
   "execution_count": 5,
   "metadata": {},
   "outputs": [
    {
     "name": "stdout",
     "output_type": "stream",
     "text": [
      "9\n",
      "7\n"
     ]
    }
   ],
   "source": [
    "def Excercise6(k,arr):\n",
    "    max_sum = 0\n",
    "    window_sum = 0\n",
    "    \n",
    "    for i in range(len(arr)-k+1):\n",
    "        if i > 0:\n",
    "            window_sum = window_sum - arr[i-1] + arr[i+k]\n",
    "            \n",
    "        else:    \n",
    "            for k in range(i,i+k):\n",
    "                window_sum += arr[k]\n",
    "                \n",
    "        max_sum = max(window_sum,max_sum)\n",
    "    return max_sum\n",
    "\n",
    "def main():\n",
    "    print(Excercise6(3, [2, 1, 5, 1, 3, 2]))\n",
    "    print(Excercise6(2, [2, 3, 4, 1, 5]))\n",
    " \n",
    "if __name__ == '__main__':\n",
    "    main()"
   ]
  },
  {
   "cell_type": "markdown",
   "metadata": {},
   "source": [
    "# Exercise 7\n",
    "Given an array of positive numbers and a positive number ‘S,’ find the length of the smallest contiguous subarray whose sum is greater than or equal to ‘S’. Return 0 if no such subarray exists."
   ]
  },
  {
   "cell_type": "code",
   "execution_count": 42,
   "metadata": {},
   "outputs": [
    {
     "name": "stdout",
     "output_type": "stream",
     "text": [
      "2\n",
      "1\n",
      "3\n"
     ]
    }
   ],
   "source": [
    "import math\n",
    "def Exercise7(s,arr):\n",
    "    window_start = 0\n",
    "    window_sum = 0\n",
    "    arr_len = math.inf\n",
    "    \n",
    "    for window_end in range(0,len(arr)):\n",
    "        window_sum += arr[window_end]\n",
    "        \n",
    "        while (window_sum >= s):\n",
    "            arr_len = min(arr_len,window_end - window_start + 1)\n",
    "            window_sum = window_sum - arr[window_start]\n",
    "            window_start = window_start + 1\n",
    "            \n",
    "    if arr_len == math.inf:\n",
    "        return 0\n",
    "        \n",
    "    return arr_len\n",
    "            \n",
    "    \n",
    "    \n",
    "def main():\n",
    "    print(Exercise7(7, [2, 1, 5, 2, 3, 2]))\n",
    "    print(Exercise7(7, [2, 1, 5, 2, 8]))\n",
    "    print(Exercise7(8, [3, 4, 1, 1, 6]))\n",
    "\n",
    "    \n",
    "if __name__ == '__main__':\n",
    "    main()\n",
    "    "
   ]
  },
  {
   "cell_type": "markdown",
   "metadata": {},
   "source": [
    "# Exercise8\n",
    "Given a string, find the length of the longest substring in it with no more than K distinct characters."
   ]
  },
  {
   "cell_type": "code",
   "execution_count": 65,
   "metadata": {},
   "outputs": [
    {
     "name": "stdout",
     "output_type": "stream",
     "text": [
      "if--> a defaultdict(<class 'int'>, {'a': 1})\n",
      "if--> r defaultdict(<class 'int'>, {'a': 1, 'r': 1})\n",
      "if--> a defaultdict(<class 'int'>, {'a': 2, 'r': 1})\n",
      "if--> a defaultdict(<class 'int'>, {'a': 3, 'r': 1})\n",
      "else--> c defaultdict(<class 'int'>, {'a': 2, 'r': 1, 'c': 1})\n",
      "else--> i defaultdict(<class 'int'>, {'a': 2, 'r': 1, 'c': 1})\n",
      "4\n"
     ]
    }
   ],
   "source": [
    "from collections import defaultdict\n",
    "\n",
    "def Exercise8(k,str_s):\n",
    "    window_start = 0\n",
    "    str_len = 0\n",
    "    max_len =0\n",
    "    str_k = 0\n",
    "    sub_str = defaultdict(int)\n",
    "    \n",
    "    for window_end in str_s:\n",
    "        if len(sub_str.keys()) < k or window_end in sub_str.keys(): \n",
    "            str_len += 1\n",
    "            sub_str[window_end] +=  1\n",
    "            print(\"if-->\",window_end,sub_str)\n",
    "        else:\n",
    "            max_len = max(max_len,str_len)\n",
    "            sub_str[window_end] += 1\n",
    "            if sub_str[str_s[window_start]] >= 2:\n",
    "                sub_str[str_s[window_start]] -= 1\n",
    "            else:\n",
    "                del sub_str[window_end] \n",
    "            print(\"else-->\",window_end,sub_str)\n",
    "            window_start += 1 \n",
    "            str_len -= 1 \n",
    "    return max_len\n",
    "               \n",
    "def main():\n",
    "    print(Exercise8(2,\"araaci\"))\n",
    "    #print(Exercise8(1,\"araaci\"))\n",
    "    #print(Exercise8(3,\"cbbebi\"))\n",
    "    #print(Exercise8(10,\"cbbebi\"))\n",
    "\n",
    "if __name__ == '__main__':\n",
    "    main()"
   ]
  },
  {
   "cell_type": "code",
   "execution_count": 68,
   "metadata": {},
   "outputs": [
    {
     "name": "stdout",
     "output_type": "stream",
     "text": [
      "head->\n",
      "1->2->3->\n"
     ]
    }
   ],
   "source": [
    "from __future__ import print_function\n",
    "\n",
    "class Node:\n",
    "    def __init__(self,value,next=None):\n",
    "        self.value = value\n",
    "        self.next = next\n",
    "    \n",
    "    def print_node(self):\n",
    "        temp = self\n",
    "        while temp is not None:\n",
    "            print(temp.value,end=\"->\")\n",
    "            temp = temp.next\n",
    "        print()\n",
    "\n",
    "if __name__ == '__main__':\n",
    "    node = Node(1)\n",
    "    node.next = Node(2)\n",
    "    node.next.next = Node(3)\n",
    "    node.print_node()"
   ]
  },
  {
   "cell_type": "code",
   "execution_count": null,
   "metadata": {},
   "outputs": [],
   "source": []
  }
 ],
 "metadata": {
  "kernelspec": {
   "display_name": "Python 3",
   "language": "python",
   "name": "python3"
  },
  "language_info": {
   "codemirror_mode": {
    "name": "ipython",
    "version": 3
   },
   "file_extension": ".py",
   "mimetype": "text/x-python",
   "name": "python",
   "nbconvert_exporter": "python",
   "pygments_lexer": "ipython3",
   "version": "3.7.6"
  }
 },
 "nbformat": 4,
 "nbformat_minor": 4
}
