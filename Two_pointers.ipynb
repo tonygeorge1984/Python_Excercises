{
 "cells": [
  {
   "cell_type": "markdown",
   "metadata": {},
   "source": [
    "# Two Pointers"
   ]
  },
  {
   "cell_type": "markdown",
   "metadata": {},
   "source": [
    "### 1. Given an array of sorted numbers and a target sum, find a pair in the array whose sum is equal to the given target. Write a function to return the indices of the two numbers (i.e. the pair) such that they add up to the given target."
   ]
  },
  {
   "cell_type": "markdown",
   "metadata": {},
   "source": [
    "Input: [1, 2, 3, 4, 6], target=6\n",
    "Output: [1, 3]\n",
    "Explanation: The numbers at index 1 and 3 add up to 6: 2+4=6\n",
    "\n",
    "Input: [2, 5, 9, 11], target=11\n",
    "Output: [0, 2]\n",
    "Explanation: The numbers at index 0 and 2 add up to 11: 2+9=11"
   ]
  },
  {
   "cell_type": "code",
   "execution_count": 5,
   "metadata": {},
   "outputs": [
    {
     "name": "stdout",
     "output_type": "stream",
     "text": [
      "[1, 3]\n",
      "[0, 2]\n"
     ]
    }
   ],
   "source": [
    "def solve_pairsum(arr,target):\n",
    "    start_point = 0\n",
    "    end_point = len(arr) - 1\n",
    "    res= []\n",
    "    \n",
    "    for i in range(len(arr)):\n",
    "        if target > (arr[start_point] + arr[end_point]):\n",
    "            start_point += 1\n",
    "        elif target < (arr[start_point] + arr[end_point]):\n",
    "            end_point -= 1\n",
    "        elif target == (arr[start_point] + arr[end_point]):\n",
    "            return [start_point,end_point]\n",
    "    return res\n",
    "\n",
    "if __name__ == '__main__':\n",
    "    pairsum = solve_pairsum([1, 2, 3, 4, 6],6)\n",
    "    print(pairsum)\n",
    "    pairsum = solve_pairsum([2, 5, 9, 11],11)\n",
    "    print(pairsum)\n",
    "            "
   ]
  },
  {
   "cell_type": "markdown",
   "metadata": {},
   "source": [
    "### 2. Given an array of sorted numbers, remove all duplicates from it. You should not use any extra space; after removing the duplicates in-place return the length of the subarray that has no duplicate in it."
   ]
  },
  {
   "cell_type": "markdown",
   "metadata": {},
   "source": [
    "Input: [2, 3, 3, 3, 6, 9, 9]\n",
    "Output: 4\n",
    "Explanation: The first four elements after removing the duplicates will be [2, 3, 6, 9].\n",
    "    \n",
    "    \n",
    "Input: [2, 2, 2, 11]\n",
    "Output: 2\n",
    "Explanation: The first two elements after removing the duplicates will be [2, 11]."
   ]
  },
  {
   "cell_type": "code",
   "execution_count": 10,
   "metadata": {},
   "outputs": [
    {
     "name": "stdout",
     "output_type": "stream",
     "text": [
      "old --> [2, 3, 6, 9, 6, 9, 9]\n",
      "new --> [2, 3, 6, 9]\n",
      "4\n",
      "old --> [2, 11, 2, 11]\n",
      "new --> [2, 11]\n",
      "2\n"
     ]
    }
   ],
   "source": [
    "def remove_duplicates(arr):\n",
    "    start_point = 0\n",
    "    for i in range(len(arr)):\n",
    "        if i >= 1:\n",
    "            if arr[i] != arr[i-1]:\n",
    "                arr[start_point] = arr[i]\n",
    "                start_point += 1\n",
    "        else:\n",
    "            arr[start_point]= arr[i]\n",
    "            start_point += 1 \n",
    "    print('old -->',arr)\n",
    "    del arr[start_point:]     \n",
    "    print('new -->',arr)\n",
    "    return start_point \n",
    "\n",
    "if __name__ == '__main__':\n",
    "    print(remove_duplicates([2, 3, 3, 3, 6, 9, 9]))\n",
    "    print(remove_duplicates([2, 2, 2, 11]))\n"
   ]
  },
  {
   "cell_type": "markdown",
   "metadata": {},
   "source": [
    "### 3. Given an array of unsorted numbers, find all unique triplets in it that add up to zero."
   ]
  },
  {
   "cell_type": "markdown",
   "metadata": {},
   "source": [
    "Input: [-3, 0, 1, 2, -1, 1, -2]\n",
    "Output: [-3, 1, 2], [-2, 0, 2], [-2, 1, 1], [-1, 0, 1]\n",
    "Explanation: There are four unique triplets whose sum is equal to zero.\n",
    "\n",
    "    \n",
    "Input: [-5, 2, -1, -2, 3]\n",
    "Output: [[-5, 2, 3], [-2, -1, 3]]\n",
    "Explanation: There are two unique triplets whose sum is equal to zero."
   ]
  },
  {
   "cell_type": "code",
   "execution_count": 12,
   "metadata": {},
   "outputs": [
    {
     "name": "stdout",
     "output_type": "stream",
     "text": [
      "[[-3, 1, 2], [-2, 0, 2], [-2, 1, 1], [-1, 0, 1]]\n",
      "[[-5, 2, 3], [-2, -1, 3]]\n"
     ]
    }
   ],
   "source": [
    "def find_trip(arr):\n",
    "    arr.sort()\n",
    "    triplet = []\n",
    "    for i in range(len(arr)):\n",
    "        target_sum = -arr[i]\n",
    "        left = i+1\n",
    "        right = len(arr) -1\n",
    "        while (left < right):\n",
    "            if target_sum == arr[left] + arr[right]:\n",
    "                triplet.append([-target_sum,arr[left],arr[right]])\n",
    "                left += 1\n",
    "                right -= 1\n",
    "            elif target_sum > arr[left] + arr[right]:\n",
    "                left +=1\n",
    "            else:\n",
    "                right -= 1\n",
    "                \n",
    "                \n",
    "    return triplet\n",
    "\n",
    "if __name__ == '__main__':\n",
    "    print(find_trip([-3, 0, 1, 2, -1, 1, -2]))\n",
    "    print(find_trip([-5, 2, -1, -2, 3]))"
   ]
  },
  {
   "cell_type": "code",
   "execution_count": null,
   "metadata": {},
   "outputs": [],
   "source": []
  }
 ],
 "metadata": {
  "kernelspec": {
   "display_name": "Python 3",
   "language": "python",
   "name": "python3"
  },
  "language_info": {
   "codemirror_mode": {
    "name": "ipython",
    "version": 3
   },
   "file_extension": ".py",
   "mimetype": "text/x-python",
   "name": "python",
   "nbconvert_exporter": "python",
   "pygments_lexer": "ipython3",
   "version": "3.7.6"
  }
 },
 "nbformat": 4,
 "nbformat_minor": 4
}
