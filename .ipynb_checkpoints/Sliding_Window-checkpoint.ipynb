{
 "cells": [
  {
   "cell_type": "markdown",
   "metadata": {},
   "source": [
    "# Sliding Window Problems"
   ]
  },
  {
   "cell_type": "markdown",
   "metadata": {},
   "source": [
    "### 1. Given an array, find the average of all contiguous subarrays of size ‘K’ in it."
   ]
  },
  {
   "cell_type": "code",
   "execution_count": 86,
   "metadata": {},
   "outputs": [
    {
     "name": "stdout",
     "output_type": "stream",
     "text": [
      "[2.2, 2.8, 2.8, 4.2, 4.4]\n"
     ]
    }
   ],
   "source": [
    "def avg_arr(k,arr):\n",
    "    avg_arr = []\n",
    "    \n",
    "    if k < 1:\n",
    "        return avg_arr\n",
    "    \n",
    "    if len(arr) < 1:\n",
    "        return avg_arr\n",
    "    \n",
    "    w_sum =0.0\n",
    "    w_start = 0\n",
    "    for i in range(len(arr)):\n",
    "        w_sum += arr[i]\n",
    "        if i >= k-1:\n",
    "            avg_arr.append(w_sum/k)\n",
    "            w_sum -= arr[w_start]\n",
    "            w_start += w_start\n",
    "                \n",
    "\n",
    "    return avg_arr\n",
    "        \n",
    "if __name__ == '__main__':\n",
    "    arr = avg_arr(5, [1, 3, 2, 6, -1, 4, 1, 8, 2])\n",
    "    print(arr)\n",
    "        "
   ]
  },
  {
   "cell_type": "markdown",
   "metadata": {},
   "source": [
    "### 2. Given an array of positive numbers and a positive number ‘k,’ find the maximum sum of any contiguous subarray of size ‘k’."
   ]
  },
  {
   "cell_type": "markdown",
   "metadata": {},
   "source": [
    "Input: [2, 1, 5, 1, 3, 2], k=3 \n",
    "Output: 9\n",
    "Explanation: Subarray with maximum sum is [5, 1, 3]."
   ]
  },
  {
   "cell_type": "code",
   "execution_count": 87,
   "metadata": {},
   "outputs": [
    {
     "name": "stdout",
     "output_type": "stream",
     "text": [
      "9 [5, 1, 3]\n"
     ]
    }
   ],
   "source": [
    "def maxsub_Array(k,arr):\n",
    "    res_arr = []\n",
    "    w_start = 0\n",
    "    w_sum = 0\n",
    "    great_sum = 0\n",
    "    for i in range(len(arr)):\n",
    "        w_sum += arr[i]\n",
    "        if i >= k-1:\n",
    "            if w_sum > great_sum:\n",
    "                great_sum = w_sum\n",
    "                res_arr = arr[i-2:i+1]\n",
    "            w_sum -= arr[w_start]\n",
    "            w_start += 1\n",
    "    return res_arr, great_sum\n",
    "\n",
    "\n",
    "if __name__ == '__main__':\n",
    "    max_Arr, max_sum = maxsub_Array(3, [2, 1, 5, 1, 3, 2])\n",
    "    print(max_sum,max_Arr)"
   ]
  },
  {
   "cell_type": "markdown",
   "metadata": {},
   "source": [
    "### 3. Given an array of positive numbers and a positive number ‘S,’ find the length of the smallest contiguous subarray whose sum is greater than or equal to ‘S’. Return 0 if no such subarray exists."
   ]
  },
  {
   "cell_type": "markdown",
   "metadata": {},
   "source": [
    "Input: [2, 1, 5, 2, 3, 2], S=7 \n",
    "Output: 2\n",
    "Explanation: The smallest subarray with a sum greater than or equal to '7' is [5, 2]."
   ]
  },
  {
   "cell_type": "code",
   "execution_count": 88,
   "metadata": {},
   "outputs": [
    {
     "name": "stdout",
     "output_type": "stream",
     "text": [
      "2\n"
     ]
    }
   ],
   "source": [
    "import math\n",
    "def smallest_subarr(arr,s):\n",
    "    subarr_len = math.inf\n",
    "    w_start = 0\n",
    "    w_sum = 0\n",
    "    for i in range(len(arr)):\n",
    "        w_sum += arr[i]\n",
    "        while (w_sum >= s):\n",
    "            subarr_len = min(subarr_len, i-w_start+1)\n",
    "            w_sum -= arr[w_start]\n",
    "            w_start += 1\n",
    "    if subarr_len == math.inf:\n",
    "        subarr_len =0\n",
    "    return subarr_len\n",
    "\n",
    "if __name__ == '__main__':\n",
    "    length = smallest_subarr([2, 1, 5, 2, 3, 2],7)\n",
    "    print(length)"
   ]
  },
  {
   "cell_type": "markdown",
   "metadata": {},
   "source": [
    "### 4. Given a string, find the length of the longest substring in it with no more than K distinct characters."
   ]
  },
  {
   "cell_type": "markdown",
   "metadata": {},
   "source": [
    "Input: String=\"araaci\", K=2\n",
    "Output: 4\n",
    "Explanation: The longest substring with no more than '2' distinct characters is \"araa\"."
   ]
  },
  {
   "cell_type": "code",
   "execution_count": 89,
   "metadata": {},
   "outputs": [
    {
     "name": "stdout",
     "output_type": "stream",
     "text": [
      "4\n"
     ]
    }
   ],
   "source": [
    "def longsub_str(strng,k):\n",
    "    w_start = 0\n",
    "    max_len = 0\n",
    "    let_dict={}\n",
    "    for i in range(len(strng)):\n",
    "        let = strng[i]\n",
    "        if let in let_dict:\n",
    "            let_dict[let] += 1\n",
    "        else:\n",
    "            let_dict[let] = 1\n",
    "        while len(let_dict) > k:\n",
    "            if let_dict[strng[w_start]] < 2:\n",
    "                del let_dict[strng[w_start]]\n",
    "            else:\n",
    "                let_dict[strng[w_start]] -= 1\n",
    "            w_start += 1\n",
    "            \n",
    "        max_len = max(max_len,i-w_start+1)\n",
    "        \n",
    "    return max_len\n",
    "\n",
    "\n",
    "if __name__ == '__main__':\n",
    "    max_len = longsub_str('araaci',2)\n",
    "    print(max_len)"
   ]
  },
  {
   "cell_type": "code",
   "execution_count": null,
   "metadata": {},
   "outputs": [],
   "source": []
  },
  {
   "cell_type": "code",
   "execution_count": null,
   "metadata": {},
   "outputs": [],
   "source": []
  }
 ],
 "metadata": {
  "kernelspec": {
   "display_name": "Python 3",
   "language": "python",
   "name": "python3"
  },
  "language_info": {
   "codemirror_mode": {
    "name": "ipython",
    "version": 3
   },
   "file_extension": ".py",
   "mimetype": "text/x-python",
   "name": "python",
   "nbconvert_exporter": "python",
   "pygments_lexer": "ipython3",
   "version": "3.7.6"
  }
 },
 "nbformat": 4,
 "nbformat_minor": 4
}
